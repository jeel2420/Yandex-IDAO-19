{
 "cells": [
  {
   "cell_type": "code",
   "execution_count": 2,
   "metadata": {
    "collapsed": true
   },
   "outputs": [],
   "source": [
    "import pandas as pd"
   ]
  },
  {
   "cell_type": "code",
   "execution_count": 3,
   "metadata": {
    "collapsed": true
   },
   "outputs": [],
   "source": [
    "import numpy as np"
   ]
  },
  {
   "cell_type": "code",
   "execution_count": 4,
   "metadata": {
    "collapsed": true
   },
   "outputs": [],
   "source": [
    "df = pd.read_csv(\"train_part_1.csv.gz\")"
   ]
  },
  {
   "cell_type": "code",
   "execution_count": 5,
   "metadata": {
    "collapsed": true
   },
   "outputs": [],
   "source": [
    "train2 = pd.read_csv(\"train_part_2.csv.gz\")"
   ]
  },
  {
   "cell_type": "code",
   "execution_count": 6,
   "metadata": {
    "collapsed": true
   },
   "outputs": [],
   "source": [
    "train = pd.concat((df,train2))"
   ]
  },
  {
   "cell_type": "code",
   "execution_count": 7,
   "metadata": {
    "collapsed": true
   },
   "outputs": [],
   "source": [
    "train_labels = train['label']"
   ]
  },
  {
   "cell_type": "code",
   "execution_count": 8,
   "metadata": {
    "collapsed": true
   },
   "outputs": [],
   "source": [
    "from catboost import CatBoostClassifier, Pool"
   ]
  },
  {
   "cell_type": "code",
   "execution_count": 9,
   "metadata": {
    "collapsed": true
   },
   "outputs": [],
   "source": [
    "cat_features = train[['FOI_hits_X','FOI_hits_Y','FOI_hits_Z','FOI_hits_DX','FOI_hits_DY','FOI_hits_DZ','FOI_hits_T','FOI_hits_DT','FOI_hits_S']]"
   ]
  },
  {
   "cell_type": "code",
   "execution_count": 10,
   "metadata": {
    "collapsed": true
   },
   "outputs": [],
   "source": [
    "train_without_labels = train.drop('label',axis=1)"
   ]
  },
  {
   "cell_type": "code",
   "execution_count": 11,
   "metadata": {
    "collapsed": true
   },
   "outputs": [],
   "source": [
    "train_without_labels = train_without_labels.drop(['FOI_hits_X','FOI_hits_Y','FOI_hits_Z','FOI_hits_DX','FOI_hits_DY','FOI_hits_DZ','FOI_hits_T','FOI_hits_DT','FOI_hits_S'],axis=1)"
   ]
  },
  {
   "cell_type": "code",
   "execution_count": 12,
   "metadata": {
    "collapsed": true
   },
   "outputs": [],
   "source": [
    "train_mapped_as_test = train_without_labels.drop(['kinWeight', 'particle_type', 'sWeight', 'weight'],axis=1)"
   ]
  },
  {
   "cell_type": "code",
   "execution_count": 13,
   "metadata": {
    "collapsed": true
   },
   "outputs": [],
   "source": [
    "from catboost import FeaturesData"
   ]
  },
  {
   "cell_type": "code",
   "execution_count": 14,
   "metadata": {
    "collapsed": true
   },
   "outputs": [],
   "source": [
    "import numpy as np"
   ]
  },
  {
   "cell_type": "code",
   "execution_count": 15,
   "metadata": {
    "collapsed": true
   },
   "outputs": [],
   "source": [
    "train_mapped_as_test = train_mapped_as_test.values"
   ]
  },
  {
   "cell_type": "code",
   "execution_count": 16,
   "metadata": {
    "collapsed": true
   },
   "outputs": [],
   "source": [
    "train_mapped_as_test = train_mapped_as_test.astype(np.float32)"
   ]
  },
  {
   "cell_type": "code",
   "execution_count": 17,
   "metadata": {
    "collapsed": true
   },
   "outputs": [],
   "source": [
    "cat_features = cat_features.values"
   ]
  },
  {
   "cell_type": "code",
   "execution_count": 18,
   "metadata": {
    "collapsed": true
   },
   "outputs": [],
   "source": [
    "train_data = Pool(data=FeaturesData((train_mapped_as_test),cat_features),label=train_labels)"
   ]
  },
  {
   "cell_type": "code",
   "execution_count": 22,
   "metadata": {
    "collapsed": true
   },
   "outputs": [],
   "source": [
    "model = CatBoostClassifier(iterations = 100, \n",
    "                           l2_leaf_reg = 9,\n",
    "                           boosting_type = 'Plain',\n",
    "                           bootstrap_type = 'Bernoulli',\n",
    "                           rsm = 0.1,\n",
    "                           learning_rate = 0.4,\n",
    "                           depth = 8,\n",
    "                           one_hot_max_size = 50,\n",
    "                           od_type='IncToDec',\n",
    "                           loss_function = 'Logloss')"
   ]
  },
  {
   "cell_type": "code",
   "execution_count": 23,
   "metadata": {},
   "outputs": [
    {
     "data": {
      "text/plain": [
       "{'boosting_type': 'Plain',\n",
       " 'bootstrap_type': 'Bernoulli',\n",
       " 'depth': 8,\n",
       " 'iterations': 100,\n",
       " 'l2_leaf_reg': 9,\n",
       " 'learning_rate': 0.4,\n",
       " 'loss_function': 'Logloss',\n",
       " 'od_type': 'IncToDec',\n",
       " 'one_hot_max_size': 50,\n",
       " 'rsm': 0.1}"
      ]
     },
     "execution_count": 23,
     "metadata": {},
     "output_type": "execute_result"
    }
   ],
   "source": [
    "model.get_params()"
   ]
  },
  {
   "cell_type": "code",
   "execution_count": null,
   "metadata": {},
   "outputs": [
    {
     "name": "stdout",
     "output_type": "stream",
     "text": [
      "0:\tlearn: 0.3386930\ttotal: 8.62s\tremaining: 14m 13s\n",
      "1:\tlearn: 0.2479271\ttotal: 14.1s\tremaining: 11m 33s\n",
      "2:\tlearn: 0.2220790\ttotal: 19.7s\tremaining: 10m 36s\n",
      "3:\tlearn: 0.2133395\ttotal: 23.9s\tremaining: 9m 34s\n",
      "4:\tlearn: 0.2080914\ttotal: 28.3s\tremaining: 8m 57s\n",
      "5:\tlearn: 0.2036821\ttotal: 36.1s\tremaining: 9m 25s\n",
      "6:\tlearn: 0.2022060\ttotal: 40.1s\tremaining: 8m 52s\n",
      "7:\tlearn: 0.1992160\ttotal: 50.3s\tremaining: 9m 38s\n",
      "8:\tlearn: 0.1962520\ttotal: 1m 2s\tremaining: 10m 29s\n",
      "9:\tlearn: 0.1954550\ttotal: 1m 9s\tremaining: 10m 24s\n",
      "10:\tlearn: 0.1938385\ttotal: 1m 17s\tremaining: 10m 28s\n",
      "11:\tlearn: 0.1931372\ttotal: 1m 24s\tremaining: 10m 19s\n",
      "12:\tlearn: 0.1925665\ttotal: 1m 31s\tremaining: 10m 9s\n",
      "13:\tlearn: 0.1922515\ttotal: 1m 38s\tremaining: 10m 7s\n",
      "14:\tlearn: 0.1918210\ttotal: 1m 46s\tremaining: 10m 5s\n",
      "15:\tlearn: 0.1913988\ttotal: 1m 53s\tremaining: 9m 57s\n",
      "16:\tlearn: 0.1911016\ttotal: 2m 1s\tremaining: 9m 52s\n",
      "17:\tlearn: 0.1907162\ttotal: 2m 7s\tremaining: 9m 41s\n",
      "18:\tlearn: 0.1902670\ttotal: 2m 15s\tremaining: 9m 37s\n",
      "19:\tlearn: 0.1899506\ttotal: 2m 22s\tremaining: 9m 31s\n",
      "20:\tlearn: 0.1895657\ttotal: 2m 29s\tremaining: 9m 22s\n",
      "21:\tlearn: 0.1891538\ttotal: 2m 36s\tremaining: 9m 14s\n",
      "22:\tlearn: 0.1887218\ttotal: 2m 43s\tremaining: 9m 8s\n",
      "25:\tlearn: 0.1878340\ttotal: 3m 2s\tremaining: 8m 39s\n",
      "26:\tlearn: 0.1874809\ttotal: 3m 8s\tremaining: 8m 28s\n",
      "27:\tlearn: 0.1872847\ttotal: 3m 14s\tremaining: 8m 20s\n",
      "28:\tlearn: 0.1870858\ttotal: 3m 18s\tremaining: 8m 5s\n",
      "29:\tlearn: 0.1869768\ttotal: 3m 24s\tremaining: 7m 57s\n",
      "30:\tlearn: 0.1859753\ttotal: 3m 38s\tremaining: 8m 6s\n",
      "31:\tlearn: 0.1857394\ttotal: 3m 43s\tremaining: 7m 55s\n",
      "32:\tlearn: 0.1854027\ttotal: 3m 50s\tremaining: 7m 48s\n",
      "33:\tlearn: 0.1852396\ttotal: 3m 59s\tremaining: 7m 44s\n",
      "34:\tlearn: 0.1851216\ttotal: 4m 4s\tremaining: 7m 34s\n",
      "35:\tlearn: 0.1849759\ttotal: 4m 11s\tremaining: 7m 27s\n",
      "36:\tlearn: 0.1843677\ttotal: 4m 24s\tremaining: 7m 29s\n",
      "37:\tlearn: 0.1841569\ttotal: 4m 27s\tremaining: 7m 16s\n",
      "38:\tlearn: 0.1837183\ttotal: 4m 39s\tremaining: 7m 17s\n",
      "39:\tlearn: 0.1836029\ttotal: 4m 45s\tremaining: 7m 7s\n",
      "40:\tlearn: 0.1834321\ttotal: 4m 50s\tremaining: 6m 58s\n",
      "41:\tlearn: 0.1833143\ttotal: 4m 58s\tremaining: 6m 51s\n",
      "42:\tlearn: 0.1831877\ttotal: 5m 5s\tremaining: 6m 45s\n",
      "43:\tlearn: 0.1829828\ttotal: 5m 12s\tremaining: 6m 38s\n",
      "44:\tlearn: 0.1827096\ttotal: 5m 22s\tremaining: 6m 33s\n",
      "45:\tlearn: 0.1825775\ttotal: 5m 28s\tremaining: 6m 25s\n",
      "46:\tlearn: 0.1824652\ttotal: 5m 33s\tremaining: 6m 15s\n",
      "47:\tlearn: 0.1823716\ttotal: 5m 40s\tremaining: 6m 8s\n",
      "48:\tlearn: 0.1822081\ttotal: 5m 47s\tremaining: 6m 1s\n",
      "49:\tlearn: 0.1821085\ttotal: 5m 51s\tremaining: 5m 51s\n",
      "50:\tlearn: 0.1820257\ttotal: 5m 55s\tremaining: 5m 41s\n",
      "51:\tlearn: 0.1819410\ttotal: 6m 3s\tremaining: 5m 35s\n",
      "52:\tlearn: 0.1818115\ttotal: 6m 9s\tremaining: 5m 28s\n",
      "53:\tlearn: 0.1816896\ttotal: 6m 17s\tremaining: 5m 21s\n",
      "54:\tlearn: 0.1815891\ttotal: 6m 22s\tremaining: 5m 12s\n",
      "55:\tlearn: 0.1815102\ttotal: 6m 30s\tremaining: 5m 6s\n",
      "56:\tlearn: 0.1814251\ttotal: 6m 37s\tremaining: 4m 59s\n",
      "57:\tlearn: 0.1813519\ttotal: 6m 43s\tremaining: 4m 52s\n",
      "58:\tlearn: 0.1812874\ttotal: 6m 50s\tremaining: 4m 45s\n",
      "59:\tlearn: 0.1811647\ttotal: 6m 54s\tremaining: 4m 36s\n",
      "60:\tlearn: 0.1811189\ttotal: 6m 59s\tremaining: 4m 28s\n",
      "61:\tlearn: 0.1809148\ttotal: 7m 5s\tremaining: 4m 21s\n",
      "62:\tlearn: 0.1808399\ttotal: 7m 10s\tremaining: 4m 13s\n",
      "63:\tlearn: 0.1807952\ttotal: 7m 18s\tremaining: 4m 6s\n",
      "64:\tlearn: 0.1807465\ttotal: 7m 25s\tremaining: 4m\n",
      "65:\tlearn: 0.1806696\ttotal: 7m 32s\tremaining: 3m 53s\n",
      "66:\tlearn: 0.1806021\ttotal: 7m 37s\tremaining: 3m 45s\n",
      "67:\tlearn: 0.1805411\ttotal: 7m 44s\tremaining: 3m 38s\n",
      "68:\tlearn: 0.1803639\ttotal: 7m 49s\tremaining: 3m 31s\n",
      "69:\tlearn: 0.1802825\ttotal: 7m 55s\tremaining: 3m 23s\n",
      "70:\tlearn: 0.1801486\ttotal: 8m 9s\tremaining: 3m 19s\n",
      "71:\tlearn: 0.1800963\ttotal: 8m 15s\tremaining: 3m 12s\n",
      "72:\tlearn: 0.1800352\ttotal: 8m 20s\tremaining: 3m 5s\n",
      "73:\tlearn: 0.1799472\ttotal: 8m 29s\tremaining: 2m 59s\n",
      "74:\tlearn: 0.1797954\ttotal: 8m 33s\tremaining: 2m 51s\n",
      "75:\tlearn: 0.1797451\ttotal: 8m 41s\tremaining: 2m 44s\n",
      "76:\tlearn: 0.1797049\ttotal: 8m 47s\tremaining: 2m 37s\n",
      "77:\tlearn: 0.1796514\ttotal: 8m 53s\tremaining: 2m 30s\n",
      "78:\tlearn: 0.1796048\ttotal: 8m 59s\tremaining: 2m 23s\n",
      "79:\tlearn: 0.1795483\ttotal: 9m 6s\tremaining: 2m 16s\n",
      "80:\tlearn: 0.1795169\ttotal: 9m 10s\tremaining: 2m 9s\n",
      "81:\tlearn: 0.1794704\ttotal: 9m 14s\tremaining: 2m 1s\n",
      "82:\tlearn: 0.1794176\ttotal: 9m 22s\tremaining: 1m 55s\n",
      "83:\tlearn: 0.1793551\ttotal: 9m 29s\tremaining: 1m 48s\n",
      "84:\tlearn: 0.1793004\ttotal: 9m 37s\tremaining: 1m 41s\n",
      "85:\tlearn: 0.1791914\ttotal: 9m 49s\tremaining: 1m 36s\n",
      "86:\tlearn: 0.1791464\ttotal: 9m 56s\tremaining: 1m 29s\n",
      "87:\tlearn: 0.1791151\ttotal: 10m 2s\tremaining: 1m 22s\n",
      "88:\tlearn: 0.1789708\ttotal: 10m 7s\tremaining: 1m 15s\n",
      "89:\tlearn: 0.1789285\ttotal: 10m 15s\tremaining: 1m 8s\n",
      "90:\tlearn: 0.1789008\ttotal: 10m 23s\tremaining: 1m 1s\n",
      "91:\tlearn: 0.1788656\ttotal: 10m 27s\tremaining: 54.6s\n",
      "92:\tlearn: 0.1788018\ttotal: 10m 33s\tremaining: 47.7s\n",
      "93:\tlearn: 0.1787421\ttotal: 10m 38s\tremaining: 40.7s\n",
      "94:\tlearn: 0.1786045\ttotal: 10m 44s\tremaining: 33.9s\n",
      "95:\tlearn: 0.1785476\ttotal: 10m 48s\tremaining: 27s\n",
      "96:\tlearn: 0.1785044\ttotal: 10m 53s\tremaining: 20.2s\n",
      "97:\tlearn: 0.1784480\ttotal: 10m 57s\tremaining: 13.4s\n",
      "98:\tlearn: 0.1784083\ttotal: 11m 4s\tremaining: 6.71s\n",
      "99:\tlearn: 0.1783547\ttotal: 11m 10s\tremaining: 0us\n"
     ]
    },
    {
     "data": {
      "text/plain": [
       "<catboost.core.CatBoostClassifier at 0x18b9b73c7b8>"
      ]
     },
     "execution_count": 24,
     "metadata": {},
     "output_type": "execute_result"
    }
   ],
   "source": [
    "model.fit(train_data)"
   ]
  },
  {
   "cell_type": "code",
   "execution_count": null,
   "metadata": {},
   "outputs": [],
   "source": []
  },
  {
   "cell_type": "code",
   "execution_count": null,
   "metadata": {
    "collapsed": true
   },
   "outputs": [],
   "source": [
    "test_data = pd.read_csv('test_public.csv.gz')"
   ]
  },
  {
   "cell_type": "code",
   "execution_count": 24,
   "metadata": {
    "collapsed": true
   },
   "outputs": [],
   "source": [
    "columns_matched = train_without_labels.columns.difference(test_data.columns)"
   ]
  },
  {
   "cell_type": "code",
   "execution_count": 25,
   "metadata": {},
   "outputs": [
    {
     "data": {
      "text/plain": [
       "Index(['kinWeight', 'particle_type', 'sWeight', 'weight'], dtype='object')"
      ]
     },
     "execution_count": 25,
     "metadata": {},
     "output_type": "execute_result"
    }
   ],
   "source": [
    "columns_matched"
   ]
  },
  {
   "cell_type": "code",
   "execution_count": 22,
   "metadata": {},
   "outputs": [
    {
     "data": {
      "text/plain": [
       "(70,)"
      ]
     },
     "execution_count": 22,
     "metadata": {},
     "output_type": "execute_result"
    }
   ],
   "source": [
    "columns_umatched.shape"
   ]
  },
  {
   "cell_type": "code",
   "execution_count": 30,
   "metadata": {
    "collapsed": true
   },
   "outputs": [],
   "source": [
    "test_data = test_data.drop(['FOI_hits_X','FOI_hits_Y','FOI_hits_Z','FOI_hits_DX','FOI_hits_DY','FOI_hits_DZ','FOI_hits_T','FOI_hits_DT','FOI_hits_S'],axis=1)"
   ]
  },
  {
   "cell_type": "code",
   "execution_count": 31,
   "metadata": {
    "collapsed": true
   },
   "outputs": [],
   "source": [
    "test_data = test_data.values"
   ]
  },
  {
   "cell_type": "code",
   "execution_count": 32,
   "metadata": {
    "collapsed": true
   },
   "outputs": [],
   "source": [
    "test_data = test_data.astype(np.float32)"
   ]
  },
  {
   "cell_type": "code",
   "execution_count": 33,
   "metadata": {
    "collapsed": true
   },
   "outputs": [],
   "source": [
    "testi = pd.read_csv('test_public.csv.gz')"
   ]
  },
  {
   "cell_type": "code",
   "execution_count": 34,
   "metadata": {
    "collapsed": true
   },
   "outputs": [],
   "source": [
    "cat_test_features = testi[['FOI_hits_X','FOI_hits_Y','FOI_hits_Z','FOI_hits_DX','FOI_hits_DY','FOI_hits_DZ','FOI_hits_T','FOI_hits_DT','FOI_hits_S']]"
   ]
  },
  {
   "cell_type": "code",
   "execution_count": 35,
   "metadata": {
    "collapsed": true
   },
   "outputs": [],
   "source": [
    "cat_test_features = cat_test_features.values"
   ]
  },
  {
   "cell_type": "code",
   "execution_count": 36,
   "metadata": {
    "collapsed": true
   },
   "outputs": [],
   "source": [
    "testing = FeaturesData(test_data,cat_test_features)"
   ]
  },
  {
   "cell_type": "code",
   "execution_count": 37,
   "metadata": {
    "collapsed": true
   },
   "outputs": [],
   "source": [
    "pred_class = model.predict(testing)"
   ]
  },
  {
   "cell_type": "code",
   "execution_count": 44,
   "metadata": {},
   "outputs": [
    {
     "name": "stdout",
     "output_type": "stream",
     "text": [
      "[1. 1. 1. ... 1. 1. 1.]\n"
     ]
    }
   ],
   "source": [
    "print(pred_class)"
   ]
  },
  {
   "cell_type": "code",
   "execution_count": 47,
   "metadata": {
    "collapsed": true
   },
   "outputs": [],
   "source": [
    "test_A = pd.read_csv('test_public.csv.gz')"
   ]
  },
  {
   "cell_type": "code",
   "execution_count": 50,
   "metadata": {
    "collapsed": true
   },
   "outputs": [],
   "source": [
    "submission = test_A['id']"
   ]
  },
  {
   "cell_type": "code",
   "execution_count": 54,
   "metadata": {
    "collapsed": true
   },
   "outputs": [],
   "source": [
    "pred_class = pd.DataFrame(pred_class)"
   ]
  },
  {
   "cell_type": "code",
   "execution_count": 58,
   "metadata": {},
   "outputs": [
    {
     "name": "stderr",
     "output_type": "stream",
     "text": [
      "C:\\Users\\dishant\\AppData\\Local\\conda\\conda\\envs\\my_root\\lib\\site-packages\\pandas\\core\\indexes\\api.py:77: RuntimeWarning: '<' not supported between instances of 'str' and 'int', sort order is undefined for incomparable objects\n",
      "  result = result.union(other)\n"
     ]
    }
   ],
   "source": [
    "submission = pd.concat((submission,pred_class),axis=1)"
   ]
  },
  {
   "cell_type": "code",
   "execution_count": 59,
   "metadata": {},
   "outputs": [
    {
     "data": {
      "text/html": [
       "<div>\n",
       "<style>\n",
       "    .dataframe thead tr:only-child th {\n",
       "        text-align: right;\n",
       "    }\n",
       "\n",
       "    .dataframe thead th {\n",
       "        text-align: left;\n",
       "    }\n",
       "\n",
       "    .dataframe tbody tr th {\n",
       "        vertical-align: top;\n",
       "    }\n",
       "</style>\n",
       "<table border=\"1\" class=\"dataframe\">\n",
       "  <thead>\n",
       "    <tr style=\"text-align: right;\">\n",
       "      <th></th>\n",
       "      <th>id</th>\n",
       "      <th>0</th>\n",
       "    </tr>\n",
       "  </thead>\n",
       "  <tbody>\n",
       "    <tr>\n",
       "      <th>0</th>\n",
       "      <td>0</td>\n",
       "      <td>1.0</td>\n",
       "    </tr>\n",
       "    <tr>\n",
       "      <th>1</th>\n",
       "      <td>1</td>\n",
       "      <td>1.0</td>\n",
       "    </tr>\n",
       "    <tr>\n",
       "      <th>2</th>\n",
       "      <td>2</td>\n",
       "      <td>1.0</td>\n",
       "    </tr>\n",
       "    <tr>\n",
       "      <th>3</th>\n",
       "      <td>3</td>\n",
       "      <td>1.0</td>\n",
       "    </tr>\n",
       "    <tr>\n",
       "      <th>4</th>\n",
       "      <td>4</td>\n",
       "      <td>1.0</td>\n",
       "    </tr>\n",
       "  </tbody>\n",
       "</table>\n",
       "</div>"
      ],
      "text/plain": [
       "  id    0\n",
       "0  0  1.0\n",
       "1  1  1.0\n",
       "2  2  1.0\n",
       "3  3  1.0\n",
       "4  4  1.0"
      ]
     },
     "execution_count": 59,
     "metadata": {},
     "output_type": "execute_result"
    }
   ],
   "source": [
    "submission.head()"
   ]
  },
  {
   "cell_type": "code",
   "execution_count": 60,
   "metadata": {
    "collapsed": true
   },
   "outputs": [],
   "source": [
    "submission.to_csv('submission1.csv',index=False)"
   ]
  },
  {
   "cell_type": "code",
   "execution_count": null,
   "metadata": {
    "collapsed": true
   },
   "outputs": [],
   "source": []
  }
 ],
 "metadata": {
  "kernelspec": {
   "display_name": "Python 3",
   "language": "python",
   "name": "python3"
  },
  "language_info": {
   "codemirror_mode": {
    "name": "ipython",
    "version": 3
   },
   "file_extension": ".py",
   "mimetype": "text/x-python",
   "name": "python",
   "nbconvert_exporter": "python",
   "pygments_lexer": "ipython3",
   "version": "3.6.6"
  }
 },
 "nbformat": 4,
 "nbformat_minor": 2
}
